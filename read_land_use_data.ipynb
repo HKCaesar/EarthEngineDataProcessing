{
 "cells": [
  {
   "cell_type": "code",
   "execution_count": 2,
   "metadata": {
    "collapsed": false
   },
   "outputs": [],
   "source": [
    "import gdal\n",
    "import shapefile\n",
    "import numpy as np\n",
    "import pandas as pd\n",
    "import matplotlib.pyplot as plt"
   ]
  },
  {
   "cell_type": "code",
   "execution_count": 3,
   "metadata": {
    "collapsed": true
   },
   "outputs": [],
   "source": [
    "# extract polygon\n",
    "poly_sf = shapefile.Reader('SDM320384/ll_gda94/shape/user_polygon/EXTRACT_POLYGON')"
   ]
  },
  {
   "cell_type": "code",
   "execution_count": 8,
   "metadata": {
    "collapsed": false
   },
   "outputs": [
    {
     "data": {
      "text/plain": [
       "[142.8443290659609, -38.02256416627448, 144.40591835847226, -37.10855322584359]"
      ]
     },
     "execution_count": 8,
     "metadata": {},
     "output_type": "execute_result"
    }
   ],
   "source": [
    "poly_sf.shapes()[0].bbox"
   ]
  },
  {
   "cell_type": "code",
   "execution_count": 9,
   "metadata": {
    "collapsed": true
   },
   "outputs": [],
   "source": [
    "sf = shapefile.Reader('SDM320384/ll_gda94/shape/user_polygon/CATCHMENTS/LANDUSE_2014')"
   ]
  },
  {
   "cell_type": "code",
   "execution_count": 11,
   "metadata": {
    "collapsed": false
   },
   "outputs": [
    {
     "data": {
      "text/plain": [
       "148852"
      ]
     },
     "execution_count": 11,
     "metadata": {},
     "output_type": "execute_result"
    }
   ],
   "source": [
    "len(sf.shapes())"
   ]
  },
  {
   "cell_type": "code",
   "execution_count": 12,
   "metadata": {
    "collapsed": false
   },
   "outputs": [
    {
     "data": {
      "text/plain": [
       "[('DeletionFlag', 'C', 1, 0),\n",
       " ['PARCEL_PFI', 'C', 10, 0],\n",
       " ['PARCEL_SPI', 'C', 18, 0],\n",
       " ['PC_LGAC', 'C', 3, 0],\n",
       " ['LGA', 'C', 50, 0],\n",
       " ['CMA', 'C', 30, 0],\n",
       " ['PR_PROPNUM', 'C', 20, 0],\n",
       " ['PROP_PFI', 'C', 30, 0],\n",
       " ['LU_CODE', 'C', 6, 0],\n",
       " ['LU_DESC', 'C', 75, 0],\n",
       " ['LU_1', 'C', 1, 0],\n",
       " ['LU_2', 'C', 2, 0],\n",
       " ['LU_3', 'C', 3, 0],\n",
       " ['LC_CODE_14', 'C', 4, 0],\n",
       " ['LC_CODE_15', 'C', 4, 0],\n",
       " ['LC_DESC_14', 'C', 40, 0],\n",
       " ['LC_DESC_15', 'C', 40, 0],\n",
       " ['HECTARES', 'N', 39, 8],\n",
       " ['TENURE', 'C', 10, 0],\n",
       " ['IRR_STATUS', 'C', 10, 0]]"
      ]
     },
     "execution_count": 12,
     "metadata": {},
     "output_type": "execute_result"
    }
   ],
   "source": [
    "sf.fields"
   ]
  },
  {
   "cell_type": "code",
   "execution_count": 13,
   "metadata": {
    "collapsed": false
   },
   "outputs": [
    {
     "data": {
      "text/plain": [
       "148852"
      ]
     },
     "execution_count": 13,
     "metadata": {},
     "output_type": "execute_result"
    }
   ],
   "source": [
    "len(sf.records())"
   ]
  },
  {
   "cell_type": "code",
   "execution_count": 14,
   "metadata": {
    "collapsed": false
   },
   "outputs": [
    {
     "data": {
      "text/plain": [
       "['5020027',\n",
       " '1\\\\LP72152',\n",
       " '301',\n",
       " 'ARARAT',\n",
       " 'GLENELG HOPKINS',\n",
       " '635098.020000',\n",
       " '5020027',\n",
       " '530',\n",
       " 'Mixed farming and grazing  (generally more than 20ha)',\n",
       " '5',\n",
       " '53',\n",
       " '530',\n",
       " '222',\n",
       " '222',\n",
       " 'Cereals',\n",
       " 'Cereals',\n",
       " 92.41308627,\n",
       " 'PRIVATE',\n",
       " 'Inactive']"
      ]
     },
     "execution_count": 14,
     "metadata": {},
     "output_type": "execute_result"
    }
   ],
   "source": [
    "sf.record(7)"
   ]
  },
  {
   "cell_type": "code",
   "execution_count": null,
   "metadata": {
    "collapsed": true
   },
   "outputs": [],
   "source": [
    "# need to extract Land Class for the area of interest"
   ]
  }
 ],
 "metadata": {
  "kernelspec": {
   "display_name": "Python [earth_engine]",
   "language": "python",
   "name": "Python [earth_engine]"
  },
  "language_info": {
   "codemirror_mode": {
    "name": "ipython",
    "version": 3
   },
   "file_extension": ".py",
   "mimetype": "text/x-python",
   "name": "python",
   "nbconvert_exporter": "python",
   "pygments_lexer": "ipython3",
   "version": "3.4.5"
  }
 },
 "nbformat": 4,
 "nbformat_minor": 0
}
