{
 "cells": [
  {
   "cell_type": "code",
   "execution_count": 7,
   "metadata": {
    "collapsed": true
   },
   "outputs": [],
   "source": [
    "import numpy as np"
   ]
  },
  {
   "cell_type": "code",
   "execution_count": 8,
   "metadata": {
    "collapsed": true
   },
   "outputs": [],
   "source": [
    "img = np.ones((100, 120))"
   ]
  },
  {
   "cell_type": "code",
   "execution_count": 9,
   "metadata": {
    "collapsed": false
   },
   "outputs": [
    {
     "data": {
      "text/plain": [
       "(100, 120)"
      ]
     },
     "execution_count": 9,
     "metadata": {},
     "output_type": "execute_result"
    }
   ],
   "source": [
    "img.shape"
   ]
  },
  {
   "cell_type": "code",
   "execution_count": 10,
   "metadata": {
    "collapsed": true
   },
   "outputs": [],
   "source": [
    "def slice_indices(x, y, sx, sy):\n",
    "    x_stops = range(0, x, sx)\n",
    "    y_stops = range(0, y, sy)\n",
    "    x_list = [(x_stops[i], x_stops[i+1]) for i in range(len(x_stops) - 1)] + [(x_stops[-1], x)]\n",
    "    y_list = [(y_stops[i], y_stops[i+1]) for i in range(len(y_stops) - 1)] + [(y_stops[-1], y)]\n",
    "    for x_range in x_list:\n",
    "        for y_range in y_list:\n",
    "            yield (x_range, y_range)"
   ]
  },
  {
   "cell_type": "code",
   "execution_count": 12,
   "metadata": {
    "collapsed": false
   },
   "outputs": [
    {
     "name": "stdout",
     "output_type": "stream",
     "text": [
      "((0, 100), (0, 120))\n",
      "((0, 100), (120, 121))\n",
      "((100, 101), (0, 120))\n",
      "((100, 101), (120, 121))\n"
     ]
    }
   ],
   "source": [
    "for coord in slice_indices(101, 121, 100, 120):\n",
    "    print(coord)"
   ]
  },
  {
   "cell_type": "code",
   "execution_count": null,
   "metadata": {
    "collapsed": true
   },
   "outputs": [],
   "source": []
  }
 ],
 "metadata": {
  "kernelspec": {
   "display_name": "Python [Root]",
   "language": "python",
   "name": "Python [Root]"
  },
  "language_info": {
   "codemirror_mode": {
    "name": "ipython",
    "version": 3
   },
   "file_extension": ".py",
   "mimetype": "text/x-python",
   "name": "python",
   "nbconvert_exporter": "python",
   "pygments_lexer": "ipython3",
   "version": "3.5.2"
  }
 },
 "nbformat": 4,
 "nbformat_minor": 0
}
