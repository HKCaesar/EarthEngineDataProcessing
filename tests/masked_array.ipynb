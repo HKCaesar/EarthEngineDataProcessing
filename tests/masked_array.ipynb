{
 "cells": [
  {
   "cell_type": "code",
   "execution_count": 1,
   "metadata": {
    "collapsed": true
   },
   "outputs": [],
   "source": [
    "import numpy as np"
   ]
  },
  {
   "cell_type": "code",
   "execution_count": 2,
   "metadata": {
    "collapsed": true
   },
   "outputs": [],
   "source": [
    "x = np.array(list(range(100))).reshape((10, 10))"
   ]
  },
  {
   "cell_type": "code",
   "execution_count": 3,
   "metadata": {
    "collapsed": false
   },
   "outputs": [
    {
     "data": {
      "text/plain": [
       "array([[ 0,  1,  2,  3,  4,  5,  6,  7,  8,  9],\n",
       "       [10, 11, 12, 13, 14, 15, 16, 17, 18, 19],\n",
       "       [20, 21, 22, 23, 24, 25, 26, 27, 28, 29],\n",
       "       [30, 31, 32, 33, 34, 35, 36, 37, 38, 39],\n",
       "       [40, 41, 42, 43, 44, 45, 46, 47, 48, 49],\n",
       "       [50, 51, 52, 53, 54, 55, 56, 57, 58, 59],\n",
       "       [60, 61, 62, 63, 64, 65, 66, 67, 68, 69],\n",
       "       [70, 71, 72, 73, 74, 75, 76, 77, 78, 79],\n",
       "       [80, 81, 82, 83, 84, 85, 86, 87, 88, 89],\n",
       "       [90, 91, 92, 93, 94, 95, 96, 97, 98, 99]])"
      ]
     },
     "execution_count": 3,
     "metadata": {},
     "output_type": "execute_result"
    }
   ],
   "source": [
    "x"
   ]
  },
  {
   "cell_type": "code",
   "execution_count": 4,
   "metadata": {
    "collapsed": true
   },
   "outputs": [],
   "source": [
    "m = np.ma.MaskedArray(x)"
   ]
  },
  {
   "cell_type": "code",
   "execution_count": 5,
   "metadata": {
    "collapsed": false
   },
   "outputs": [
    {
     "data": {
      "text/plain": [
       "masked_array(data =\n",
       " [[ 0  1  2  3  4  5  6  7  8  9]\n",
       " [10 11 12 13 14 15 16 17 18 19]\n",
       " [20 21 22 23 24 25 26 27 28 29]\n",
       " [30 31 32 33 34 35 36 37 38 39]\n",
       " [40 41 42 43 44 45 46 47 48 49]\n",
       " [50 51 52 53 54 55 56 57 58 59]\n",
       " [60 61 62 63 64 65 66 67 68 69]\n",
       " [70 71 72 73 74 75 76 77 78 79]\n",
       " [80 81 82 83 84 85 86 87 88 89]\n",
       " [90 91 92 93 94 95 96 97 98 99]],\n",
       "             mask =\n",
       " False,\n",
       "       fill_value = 999999)"
      ]
     },
     "execution_count": 5,
     "metadata": {},
     "output_type": "execute_result"
    }
   ],
   "source": [
    "m"
   ]
  },
  {
   "cell_type": "code",
   "execution_count": 7,
   "metadata": {
    "collapsed": false
   },
   "outputs": [],
   "source": [
    "n1 = np.ma.masked_where(x % 2 == 0, x)"
   ]
  },
  {
   "cell_type": "code",
   "execution_count": 9,
   "metadata": {
    "collapsed": false
   },
   "outputs": [],
   "source": [
    "n2 = np.ma.masked_where(x % 3 == 0, x)"
   ]
  },
  {
   "cell_type": "code",
   "execution_count": 16,
   "metadata": {
    "collapsed": false
   },
   "outputs": [],
   "source": [
    "m.mask = n1.mask | n2.mask"
   ]
  },
  {
   "cell_type": "code",
   "execution_count": 17,
   "metadata": {
    "collapsed": false
   },
   "outputs": [
    {
     "data": {
      "text/plain": [
       "masked_array(data =\n",
       " [[-- 1 -- -- -- 5 -- 7 -- --]\n",
       " [-- 11 -- 13 -- -- -- 17 -- 19]\n",
       " [-- -- -- 23 -- 25 -- -- -- 29]\n",
       " [-- 31 -- -- -- 35 -- 37 -- --]\n",
       " [-- 41 -- 43 -- -- -- 47 -- 49]\n",
       " [-- -- -- 53 -- 55 -- -- -- 59]\n",
       " [-- 61 -- -- -- 65 -- 67 -- --]\n",
       " [-- 71 -- 73 -- -- -- 77 -- 79]\n",
       " [-- -- -- 83 -- 85 -- -- -- 89]\n",
       " [-- 91 -- -- -- 95 -- 97 -- --]],\n",
       "             mask =\n",
       " [[ True False  True  True  True False  True False  True  True]\n",
       " [ True False  True False  True  True  True False  True False]\n",
       " [ True  True  True False  True False  True  True  True False]\n",
       " [ True False  True  True  True False  True False  True  True]\n",
       " [ True False  True False  True  True  True False  True False]\n",
       " [ True  True  True False  True False  True  True  True False]\n",
       " [ True False  True  True  True False  True False  True  True]\n",
       " [ True False  True False  True  True  True False  True False]\n",
       " [ True  True  True False  True False  True  True  True False]\n",
       " [ True False  True  True  True False  True False  True  True]],\n",
       "       fill_value = 999999)"
      ]
     },
     "execution_count": 17,
     "metadata": {},
     "output_type": "execute_result"
    }
   ],
   "source": [
    "m"
   ]
  },
  {
   "cell_type": "code",
   "execution_count": 18,
   "metadata": {
    "collapsed": true
   },
   "outputs": [],
   "source": [
    "t = np.array(list(range(125))).reshape((5, 5, 5))"
   ]
  },
  {
   "cell_type": "code",
   "execution_count": 21,
   "metadata": {
    "collapsed": false
   },
   "outputs": [
    {
     "data": {
      "text/plain": [
       "array([[ 0,  1,  2,  3,  4],\n",
       "       [ 5,  6,  7,  8,  9],\n",
       "       [10, 11, 12, 13, 14],\n",
       "       [15, 16, 17, 18, 19],\n",
       "       [20, 21, 22, 23, 24]])"
      ]
     },
     "execution_count": 21,
     "metadata": {},
     "output_type": "execute_result"
    }
   ],
   "source": [
    "t[0, :, :]"
   ]
  },
  {
   "cell_type": "code",
   "execution_count": 26,
   "metadata": {
    "collapsed": false
   },
   "outputs": [],
   "source": [
    "mask_3d = np.broadcast_to(t[0, :, :] % 3 == 0, t.shape)"
   ]
  },
  {
   "cell_type": "code",
   "execution_count": 31,
   "metadata": {
    "collapsed": false
   },
   "outputs": [],
   "source": [
    "tm = np.ma.masked_where(mask_3d, t)"
   ]
  },
  {
   "cell_type": "code",
   "execution_count": 34,
   "metadata": {
    "collapsed": false
   },
   "outputs": [
    {
     "data": {
      "text/plain": [
       "masked_array(data =\n",
       " [[5 -- 7 8 --]\n",
       " [30 -- 32 33 --]\n",
       " [55 -- 57 58 --]\n",
       " [80 -- 82 83 --]\n",
       " [105 -- 107 108 --]],\n",
       "             mask =\n",
       " [[False  True False False  True]\n",
       " [False  True False False  True]\n",
       " [False  True False False  True]\n",
       " [False  True False False  True]\n",
       " [False  True False False  True]],\n",
       "       fill_value = 999999)"
      ]
     },
     "execution_count": 34,
     "metadata": {},
     "output_type": "execute_result"
    }
   ],
   "source": [
    "tm[:, 1, :]"
   ]
  },
  {
   "cell_type": "code",
   "execution_count": null,
   "metadata": {
    "collapsed": true
   },
   "outputs": [],
   "source": []
  }
 ],
 "metadata": {
  "anaconda-cloud": {},
  "kernelspec": {
   "display_name": "Python [Root]",
   "language": "python",
   "name": "Python [Root]"
  },
  "language_info": {
   "codemirror_mode": {
    "name": "ipython",
    "version": 3
   },
   "file_extension": ".py",
   "mimetype": "text/x-python",
   "name": "python",
   "nbconvert_exporter": "python",
   "pygments_lexer": "ipython3",
   "version": "3.5.2"
  }
 },
 "nbformat": 4,
 "nbformat_minor": 0
}
