{
 "cells": [
  {
   "cell_type": "code",
   "execution_count": 39,
   "metadata": {
    "collapsed": false
   },
   "outputs": [],
   "source": [
    "import numpy as np\n",
    "import gdal\n",
    "import matplotlib.pyplot as plt\n",
    "import os\n",
    "import pandas as pd\n",
    "import datetime\n",
    "import bisect\n",
    "import functools\n",
    "# from multiprocessing import Pool\n",
    "import itertools\n",
    "import pickle as pkl\n",
    "import time\n",
    "from IPython.display import clear_output\n",
    "%matplotlib inline\n",
    "from PIL import Image"
   ]
  },
  {
   "cell_type": "code",
   "execution_count": 2,
   "metadata": {
    "collapsed": true
   },
   "outputs": [],
   "source": [
    "# read all band images in a directory\n",
    "images = {}\n",
    "image_dir = '2014/images/'\n",
    "for fn in os.listdir(image_dir):\n",
    "    raw = gdal.Open(image_dir + fn)\n",
    "    arr = raw.ReadAsArray()\n",
    "    images[fn.split('.')[0]] = arr"
   ]
  },
  {
   "cell_type": "code",
   "execution_count": 3,
   "metadata": {
    "collapsed": true
   },
   "outputs": [],
   "source": [
    "# read all mask images in a directory\n",
    "masks = {}\n",
    "mask_dir = '2014/masks/'\n",
    "for fn in os.listdir(mask_dir):\n",
    "    raw = gdal.Open(mask_dir + fn)\n",
    "    arr = raw.ReadAsArray()\n",
    "    masks[fn.split('.')[0]] = arr"
   ]
  },
  {
   "cell_type": "code",
   "execution_count": 4,
   "metadata": {
    "collapsed": true
   },
   "outputs": [],
   "source": [
    "# compose band and mask images into one image\n",
    "combined = {}\n",
    "# image_dir = 'earthengine_images/'\n",
    "# mask_dir = 'earthengine_masks/'\n",
    "for fn in os.listdir(image_dir):\n",
    "    raw_img = gdal.Open(image_dir + fn)\n",
    "    arr_img = raw_img.ReadAsArray()\n",
    "    raw_msk = gdal.Open(mask_dir + fn)\n",
    "    arr_msk = raw_msk.ReadAsArray()\n",
    "    combined[fn.split('.')[0]] = np.concatenate((arr_img, arr_msk), axis=0)"
   ]
  },
  {
   "cell_type": "code",
   "execution_count": 5,
   "metadata": {
    "collapsed": true
   },
   "outputs": [],
   "source": [
    "# use image names to look up metadata from csv export\n",
    "table = pd.read_csv('2014/tables/LC8_SR.csv')\n",
    "time_start = table[['system:index', 'system:time_start']]"
   ]
  },
  {
   "cell_type": "code",
   "execution_count": 6,
   "metadata": {
    "collapsed": true
   },
   "outputs": [],
   "source": [
    "# compose all data into a single data frame\n",
    "ds = {}\n",
    "for k, v in combined.items():\n",
    "    ts = time_start[time_start['system:index'] == k]['system:time_start'].iloc[0]\n",
    "    ds[ts] = v"
   ]
  },
  {
   "cell_type": "code",
   "execution_count": 7,
   "metadata": {
    "collapsed": false
   },
   "outputs": [
    {
     "name": "stdout",
     "output_type": "stream",
     "text": [
      "[1393632987225, 1394410211566, 1395015377948, 1395792595786, 1397780144150, 1398557367125, 1399162529511, 1399939752769, 1400544919916, 1401322152255, 1401927327676, 1402704560525, 1404086963402, 1404692138926, 1405469370600, 1406074541664, 1406851776359, 1408234182394, 1408839353835, 1409616584607, 1410221757598, 1410998985984, 1412381389175, 1412986561487, 1413763792495, 1414368960709, 1415146191267, 1415751363029, 1416528587183, 1417133760843, 1417910986952, 1418516154655, 1419293385395, 1419898551514, 1420675781417, 1421280950873, 1422058174921, 1422663346261]\n"
     ]
    }
   ],
   "source": [
    "t = list(ds.keys())\n",
    "t.sort()\n",
    "print(t)"
   ]
  },
  {
   "cell_type": "markdown",
   "metadata": {},
   "source": [
    "Alternative flow:"
   ]
  },
  {
   "cell_type": "code",
   "execution_count": 8,
   "metadata": {
    "collapsed": true
   },
   "outputs": [],
   "source": [
    "def get_boolean_mask(image, level=1):\n",
    "    cfmask = image[3, :, :]\n",
    "    cfmask_conf = image[4, :, :]\n",
    "    return (cfmask == 0) & (cfmask_conf <= level)"
   ]
  },
  {
   "cell_type": "code",
   "execution_count": 9,
   "metadata": {
    "collapsed": false
   },
   "outputs": [],
   "source": [
    "def zigzag_integer_pairs(max_x, max_y):\n",
    "    total = 0\n",
    "    x = 0\n",
    "    while total <= max_x + max_y:\n",
    "        if total - x <= max_y:\n",
    "            yield (x, total - x)\n",
    "        if x <= min(max_x - 1, total - 1):\n",
    "            x += 1\n",
    "        else:\n",
    "            total += 1\n",
    "            x = 0"
   ]
  },
  {
   "cell_type": "code",
   "execution_count": 10,
   "metadata": {
    "collapsed": false
   },
   "outputs": [
    {
     "name": "stdout",
     "output_type": "stream",
     "text": [
      "[(0, 0), (0, 1), (1, 0), (0, 2), (1, 1), (2, 0), (0, 3), (1, 2), (2, 1), (3, 0), (0, 4), (1, 3), (2, 2), (3, 1), (0, 5), (1, 4), (2, 3), (3, 2), (1, 5), (2, 4), (3, 3), (2, 5), (3, 4), (3, 5)]\n"
     ]
    }
   ],
   "source": [
    "print([x for x in zigzag_integer_pairs(3, 5)])"
   ]
  },
  {
   "cell_type": "code",
   "execution_count": 31,
   "metadata": {
    "collapsed": false
   },
   "outputs": [],
   "source": [
    "def interpolate(timestamp, dataset):\n",
    "    times = list(dataset.keys())\n",
    "    times.sort()\n",
    "    pos = bisect.bisect(times, timestamp)\n",
    "    n_times = len(times)\n",
    "    dims = dataset[times[0]].shape\n",
    "    interpolated = np.zeros((3, dims[1], dims[2]))\n",
    "    times_before = times[:pos]\n",
    "    times_before.reverse()\n",
    "    times_after = times[pos:]\n",
    "    unfilled = np.ones(dims[1:], dtype=bool)\n",
    "    for pair in zigzag_integer_pairs(len(times_before) - 1, len(times_after) - 1):\n",
    "        before = times_before[pair[0]]\n",
    "        after = times_after[pair[1]]\n",
    "        alpha = 1.0 * (timestamp - before) / (after - before)\n",
    "        mask_before = get_boolean_mask(dataset[before])\n",
    "        mask_after = get_boolean_mask(dataset[after])\n",
    "        common_unmasked = mask_before & mask_after\n",
    "        valid = common_unmasked & unfilled\n",
    "#         fitted = dataset[before][:3, :, :] * alpha + dataset[after][:3, :, :] * (1 - alpha)\n",
    "        fitted = np.zeros((3, dims[1], dims[2]))\n",
    "        fitted[:, valid] = dataset[before][:3, valid] * alpha + dataset[after][:3, valid] * (1 - alpha)\n",
    "        unfilled = unfilled ^ valid\n",
    "        interpolated[:, valid] = fitted[:, valid]\n",
    "    # todo: deal with timestamps before the first image or after the last\n",
    "    # todo: deal with only having masked pixels on one side\n",
    "    # the above two can be achieved with one-sided value filling\n",
    "    # interpolate at existing time - remove cloud (should be working already)\n",
    "    times.sort(key=lambda t: abs(t - timestamp))\n",
    "    for ts in times:\n",
    "        mask = get_boolean_mask(dataset[ts])\n",
    "        valid = mask & unfilled\n",
    "        unfilled = unfilled ^ valid\n",
    "        interpolated[:, valid] = dataset[ts][:3, valid]\n",
    "    return interpolated"
   ]
  },
  {
   "cell_type": "code",
   "execution_count": 32,
   "metadata": {
    "collapsed": true
   },
   "outputs": [],
   "source": [
    "def interpolate_images(timestamps, dataset):\n",
    "    return {ts: interpolate(ts, dataset) for ts in timestamps}"
   ]
  },
  {
   "cell_type": "code",
   "execution_count": 33,
   "metadata": {
    "collapsed": false,
    "scrolled": true
   },
   "outputs": [
    {
     "name": "stdout",
     "output_type": "stream",
     "text": [
      "[1394021599395, 1394712794757, 1395403986867, 1396786369968, 1398168755637, 1398859948318, 1399551141140, 1400242336342, 1400933536085, 1401624739965, 1402315944100, 1403395761963, 1404389551164, 1405080754763, 1405771956132, 1406463159011, 1407542979376, 1408536768114, 1409227969221, 1409919171102, 1410610371791, 1411690187579, 1412683975331, 1413375176991, 1414066376602, 1414757575988, 1415448777148, 1416139975106, 1416831174013, 1417522373897, 1418213570803, 1418904770025, 1419595968454, 1420287166465, 1420978366145, 1421669562897, 1422360760591]\n"
     ]
    }
   ],
   "source": [
    "times = list(ds.keys())\n",
    "times.sort()\n",
    "midpoints = []\n",
    "for i in range(len(times) - 1):\n",
    "    midpoints += [int((times[i] + times[i+1]) / 2)]\n",
    "print(midpoints)"
   ]
  },
  {
   "cell_type": "code",
   "execution_count": 34,
   "metadata": {
    "collapsed": false
   },
   "outputs": [],
   "source": [
    "fitted_images = interpolate_images(midpoints, ds)"
   ]
  },
  {
   "cell_type": "code",
   "execution_count": 35,
   "metadata": {
    "collapsed": false
   },
   "outputs": [
    {
     "data": {
      "image/png": "[encoded data removed]",
      "text/plain": [
       "<matplotlib.figure.Figure at 0x7fd201a20ac8>"
      ]
     },
     "metadata": {},
     "output_type": "display_data"
    }
   ],
   "source": [
    "for p in midpoints:\n",
    "    clear_output()\n",
    "    plt.imshow(fitted_images[p][0, :, :])\n",
    "    plt.show()\n",
    "    time.sleep(0.5)"
   ]
  },
  {
   "cell_type": "code",
   "execution_count": 36,
   "metadata": {
    "collapsed": false
   },
   "outputs": [],
   "source": [
    "def convert_to_dataframe(image):\n",
    "    frame = pd.Panel(image).to_frame()\n",
    "    return frame"
   ]
  },
  {
   "cell_type": "code",
   "execution_count": 37,
   "metadata": {
    "collapsed": true
   },
   "outputs": [],
   "source": [
    "def make_set(images):\n",
    "    times = list(images.keys())\n",
    "    times.sort()\n",
    "    res = pd.concat([convert_to_dataframe(i) for i in images.values()], axis=1, keys=images.keys())\n",
    "#     res = pd.concat(list(map(convert_to_dataframe, images.values())), axis=0)\n",
    "    return res.reset_index()"
   ]
  },
  {
   "cell_type": "code",
   "execution_count": 146,
   "metadata": {
    "collapsed": false
   },
   "outputs": [
    {
     "data": {
      "text/html": [
       "<div>\n",
       "<table border=\"1\" class=\"dataframe\">\n",
       "  <thead>\n",
       "    <tr>\n",
       "      <th></th>\n",
       "      <th>major</th>\n",
       "      <th>minor</th>\n",
       "      <th colspan=\"3\" halign=\"left\">1420287166465</th>\n",
       "      <th colspan=\"3\" halign=\"left\">1416139975106</th>\n",
       "      <th colspan=\"2\" halign=\"left\">1394712794757</th>\n",
       "      <th>...</th>\n",
       "      <th>1412683975331</th>\n",
       "      <th colspan=\"3\" halign=\"left\">1411690187579</th>\n",
       "      <th colspan=\"3\" halign=\"left\">1404389551164</th>\n",
       "      <th colspan=\"3\" halign=\"left\">1401624739965</th>\n",
       "    </tr>\n",
       "    <tr>\n",
       "      <th></th>\n",
       "      <th></th>\n",
       "      <th></th>\n",
       "      <th>0</th>\n",
       "      <th>1</th>\n",
       "      <th>2</th>\n",
       "      <th>0</th>\n",
       "      <th>1</th>\n",
       "      <th>2</th>\n",
       "      <th>0</th>\n",
       "      <th>1</th>\n",
       "      <th>...</th>\n",
       "      <th>2</th>\n",
       "      <th>0</th>\n",
       "      <th>1</th>\n",
       "      <th>2</th>\n",
       "      <th>0</th>\n",
       "      <th>1</th>\n",
       "      <th>2</th>\n",
       "      <th>0</th>\n",
       "      <th>1</th>\n",
       "      <th>2</th>\n",
       "    </tr>\n",
       "  </thead>\n",
       "  <tbody>\n",
       "    <tr>\n",
       "      <th>0</th>\n",
       "      <td>0</td>\n",
       "      <td>0</td>\n",
       "      <td>2536.327143</td>\n",
       "      <td>1207.073539</td>\n",
       "      <td>797.913266</td>\n",
       "      <td>2592.5</td>\n",
       "      <td>1344.5</td>\n",
       "      <td>901.5</td>\n",
       "      <td>3683.0</td>\n",
       "      <td>300.0</td>\n",
       "      <td>...</td>\n",
       "      <td>718.5</td>\n",
       "      <td>5501.500036</td>\n",
       "      <td>415.699988</td>\n",
       "      <td>732.599999</td>\n",
       "      <td>3736.022648</td>\n",
       "      <td>299.408119</td>\n",
       "      <td>523.058050</td>\n",
       "      <td>4220.502289</td>\n",
       "      <td>293.999974</td>\n",
       "      <td>551.000132</td>\n",
       "    </tr>\n",
       "    <tr>\n",
       "      <th>1</th>\n",
       "      <td>0</td>\n",
       "      <td>1</td>\n",
       "      <td>2620.854873</td>\n",
       "      <td>1392.778400</td>\n",
       "      <td>1004.750059</td>\n",
       "      <td>2915.5</td>\n",
       "      <td>1564.5</td>\n",
       "      <td>1078.0</td>\n",
       "      <td>3683.0</td>\n",
       "      <td>300.0</td>\n",
       "      <td>...</td>\n",
       "      <td>802.5</td>\n",
       "      <td>5501.500036</td>\n",
       "      <td>415.699988</td>\n",
       "      <td>732.599999</td>\n",
       "      <td>3784.359573</td>\n",
       "      <td>302.268876</td>\n",
       "      <td>529.716708</td>\n",
       "      <td>4710.504375</td>\n",
       "      <td>323.000098</td>\n",
       "      <td>618.500419</td>\n",
       "    </tr>\n",
       "    <tr>\n",
       "      <th>2</th>\n",
       "      <td>0</td>\n",
       "      <td>2</td>\n",
       "      <td>2628.311506</td>\n",
       "      <td>1359.532614</td>\n",
       "      <td>1003.801855</td>\n",
       "      <td>3184.0</td>\n",
       "      <td>1615.0</td>\n",
       "      <td>1129.5</td>\n",
       "      <td>3438.0</td>\n",
       "      <td>349.0</td>\n",
       "      <td>...</td>\n",
       "      <td>735.0</td>\n",
       "      <td>5246.000027</td>\n",
       "      <td>453.199993</td>\n",
       "      <td>796.000003</td>\n",
       "      <td>3532.059711</td>\n",
       "      <td>349.049323</td>\n",
       "      <td>559.842420</td>\n",
       "      <td>4391.504060</td>\n",
       "      <td>349.500002</td>\n",
       "      <td>631.500338</td>\n",
       "    </tr>\n",
       "    <tr>\n",
       "      <th>3</th>\n",
       "      <td>0</td>\n",
       "      <td>3</td>\n",
       "      <td>2603.136817</td>\n",
       "      <td>1359.172976</td>\n",
       "      <td>1000.924748</td>\n",
       "      <td>3476.0</td>\n",
       "      <td>1723.5</td>\n",
       "      <td>1205.0</td>\n",
       "      <td>3089.0</td>\n",
       "      <td>429.0</td>\n",
       "      <td>...</td>\n",
       "      <td>711.0</td>\n",
       "      <td>4810.900020</td>\n",
       "      <td>444.699996</td>\n",
       "      <td>719.200001</td>\n",
       "      <td>3200.273575</td>\n",
       "      <td>425.103452</td>\n",
       "      <td>571.250539</td>\n",
       "      <td>4217.004803</td>\n",
       "      <td>389.499832</td>\n",
       "      <td>637.500313</td>\n",
       "    </tr>\n",
       "    <tr>\n",
       "      <th>4</th>\n",
       "      <td>0</td>\n",
       "      <td>4</td>\n",
       "      <td>2523.646467</td>\n",
       "      <td>1277.032004</td>\n",
       "      <td>925.152454</td>\n",
       "      <td>3614.5</td>\n",
       "      <td>1732.5</td>\n",
       "      <td>1198.5</td>\n",
       "      <td>2897.0</td>\n",
       "      <td>473.0</td>\n",
       "      <td>...</td>\n",
       "      <td>660.0</td>\n",
       "      <td>4549.600018</td>\n",
       "      <td>425.899997</td>\n",
       "      <td>661.100001</td>\n",
       "      <td>2992.983323</td>\n",
       "      <td>467.130516</td>\n",
       "      <td>567.847225</td>\n",
       "      <td>3870.004143</td>\n",
       "      <td>413.499747</td>\n",
       "      <td>603.000166</td>\n",
       "    </tr>\n",
       "    <tr>\n",
       "      <th>5</th>\n",
       "      <td>0</td>\n",
       "      <td>5</td>\n",
       "      <td>2406.460296</td>\n",
       "      <td>1198.907890</td>\n",
       "      <td>896.336183</td>\n",
       "      <td>3517.0</td>\n",
       "      <td>1680.0</td>\n",
       "      <td>1168.0</td>\n",
       "      <td>2897.0</td>\n",
       "      <td>473.0</td>\n",
       "      <td>...</td>\n",
       "      <td>622.5</td>\n",
       "      <td>4549.600018</td>\n",
       "      <td>425.899997</td>\n",
       "      <td>661.100001</td>\n",
       "      <td>2947.753772</td>\n",
       "      <td>464.072466</td>\n",
       "      <td>560.448716</td>\n",
       "      <td>3411.502191</td>\n",
       "      <td>382.499615</td>\n",
       "      <td>527.999847</td>\n",
       "    </tr>\n",
       "    <tr>\n",
       "      <th>6</th>\n",
       "      <td>0</td>\n",
       "      <td>6</td>\n",
       "      <td>1798.904226</td>\n",
       "      <td>519.680676</td>\n",
       "      <td>443.041535</td>\n",
       "      <td>2422.5</td>\n",
       "      <td>900.5</td>\n",
       "      <td>710.5</td>\n",
       "      <td>1947.0</td>\n",
       "      <td>327.0</td>\n",
       "      <td>...</td>\n",
       "      <td>401.0</td>\n",
       "      <td>2385.499969</td>\n",
       "      <td>265.099996</td>\n",
       "      <td>360.499996</td>\n",
       "      <td>1941.278486</td>\n",
       "      <td>317.628555</td>\n",
       "      <td>380.242695</td>\n",
       "      <td>1888.999753</td>\n",
       "      <td>231.999596</td>\n",
       "      <td>318.499708</td>\n",
       "    </tr>\n",
       "    <tr>\n",
       "      <th>7</th>\n",
       "      <td>0</td>\n",
       "      <td>7</td>\n",
       "      <td>2007.104813</td>\n",
       "      <td>484.565110</td>\n",
       "      <td>405.870510</td>\n",
       "      <td>2376.0</td>\n",
       "      <td>661.0</td>\n",
       "      <td>531.5</td>\n",
       "      <td>1749.0</td>\n",
       "      <td>206.0</td>\n",
       "      <td>...</td>\n",
       "      <td>355.0</td>\n",
       "      <td>1910.799989</td>\n",
       "      <td>174.399995</td>\n",
       "      <td>246.299997</td>\n",
       "      <td>1782.194644</td>\n",
       "      <td>208.712787</td>\n",
       "      <td>258.044518</td>\n",
       "      <td>2085.501433</td>\n",
       "      <td>233.500117</td>\n",
       "      <td>295.000175</td>\n",
       "    </tr>\n",
       "    <tr>\n",
       "      <th>8</th>\n",
       "      <td>0</td>\n",
       "      <td>8</td>\n",
       "      <td>2065.725874</td>\n",
       "      <td>649.639140</td>\n",
       "      <td>510.525287</td>\n",
       "      <td>2561.5</td>\n",
       "      <td>906.5</td>\n",
       "      <td>673.0</td>\n",
       "      <td>2246.0</td>\n",
       "      <td>607.0</td>\n",
       "      <td>...</td>\n",
       "      <td>458.5</td>\n",
       "      <td>2818.599999</td>\n",
       "      <td>421.299994</td>\n",
       "      <td>478.499998</td>\n",
       "      <td>2254.680917</td>\n",
       "      <td>589.934106</td>\n",
       "      <td>499.516376</td>\n",
       "      <td>2334.000375</td>\n",
       "      <td>433.999263</td>\n",
       "      <td>421.999634</td>\n",
       "    </tr>\n",
       "    <tr>\n",
       "      <th>9</th>\n",
       "      <td>0</td>\n",
       "      <td>9</td>\n",
       "      <td>2455.256046</td>\n",
       "      <td>1324.491571</td>\n",
       "      <td>993.833130</td>\n",
       "      <td>2943.0</td>\n",
       "      <td>1345.0</td>\n",
       "      <td>937.0</td>\n",
       "      <td>2311.0</td>\n",
       "      <td>777.0</td>\n",
       "      <td>...</td>\n",
       "      <td>569.5</td>\n",
       "      <td>3105.300009</td>\n",
       "      <td>561.100003</td>\n",
       "      <td>647.500005</td>\n",
       "      <td>2359.386249</td>\n",
       "      <td>765.754266</td>\n",
       "      <td>689.067661</td>\n",
       "      <td>2801.502088</td>\n",
       "      <td>662.999515</td>\n",
       "      <td>643.999787</td>\n",
       "    </tr>\n",
       "  </tbody>\n",
       "</table>\n",
       "<p>10 rows × 113 columns</p>\n",
       "</div>"
      ],
      "text/plain": [
       "  major minor 1420287166465                           1416139975106          \\\n",
       "                          0            1            2             0       1   \n",
       "0     0     0   2536.327143  1207.073539   797.913266        2592.5  1344.5   \n",
       "1     0     1   2620.854873  1392.778400  1004.750059        2915.5  1564.5   \n",
       "2     0     2   2628.311506  1359.532614  1003.801855        3184.0  1615.0   \n",
       "3     0     3   2603.136817  1359.172976  1000.924748        3476.0  1723.5   \n",
       "4     0     4   2523.646467  1277.032004   925.152454        3614.5  1732.5   \n",
       "5     0     5   2406.460296  1198.907890   896.336183        3517.0  1680.0   \n",
       "6     0     6   1798.904226   519.680676   443.041535        2422.5   900.5   \n",
       "7     0     7   2007.104813   484.565110   405.870510        2376.0   661.0   \n",
       "8     0     8   2065.725874   649.639140   510.525287        2561.5   906.5   \n",
       "9     0     9   2455.256046  1324.491571   993.833130        2943.0  1345.0   \n",
       "\n",
       "          1394712794757            ...     1412683975331 1411690187579  \\\n",
       "        2             0      1     ...                 2             0   \n",
       "0   901.5        3683.0  300.0     ...             718.5   5501.500036   \n",
       "1  1078.0        3683.0  300.0     ...             802.5   5501.500036   \n",
       "2  1129.5        3438.0  349.0     ...             735.0   5246.000027   \n",
       "3  1205.0        3089.0  429.0     ...             711.0   4810.900020   \n",
       "4  1198.5        2897.0  473.0     ...             660.0   4549.600018   \n",
       "5  1168.0        2897.0  473.0     ...             622.5   4549.600018   \n",
       "6   710.5        1947.0  327.0     ...             401.0   2385.499969   \n",
       "7   531.5        1749.0  206.0     ...             355.0   1910.799989   \n",
       "8   673.0        2246.0  607.0     ...             458.5   2818.599999   \n",
       "9   937.0        2311.0  777.0     ...             569.5   3105.300009   \n",
       "\n",
       "                          1404389551164                         1401624739965  \\\n",
       "            1           2             0           1           2             0   \n",
       "0  415.699988  732.599999   3736.022648  299.408119  523.058050   4220.502289   \n",
       "1  415.699988  732.599999   3784.359573  302.268876  529.716708   4710.504375   \n",
       "2  453.199993  796.000003   3532.059711  349.049323  559.842420   4391.504060   \n",
       "3  444.699996  719.200001   3200.273575  425.103452  571.250539   4217.004803   \n",
       "4  425.899997  661.100001   2992.983323  467.130516  567.847225   3870.004143   \n",
       "5  425.899997  661.100001   2947.753772  464.072466  560.448716   3411.502191   \n",
       "6  265.099996  360.499996   1941.278486  317.628555  380.242695   1888.999753   \n",
       "7  174.399995  246.299997   1782.194644  208.712787  258.044518   2085.501433   \n",
       "8  421.299994  478.499998   2254.680917  589.934106  499.516376   2334.000375   \n",
       "9  561.100003  647.500005   2359.386249  765.754266  689.067661   2801.502088   \n",
       "\n",
       "                           \n",
       "            1           2  \n",
       "0  293.999974  551.000132  \n",
       "1  323.000098  618.500419  \n",
       "2  349.500002  631.500338  \n",
       "3  389.499832  637.500313  \n",
       "4  413.499747  603.000166  \n",
       "5  382.499615  527.999847  \n",
       "6  231.999596  318.499708  \n",
       "7  233.500117  295.000175  \n",
       "8  433.999263  421.999634  \n",
       "9  662.999515  643.999787  \n",
       "\n",
       "[10 rows x 113 columns]"
      ]
     },
     "execution_count": 146,
     "metadata": {},
     "output_type": "execute_result"
    }
   ],
   "source": [
    "train = make_set(fitted_images)\n",
    "train.head(10)"
   ]
  },
  {
   "cell_type": "markdown",
   "metadata": {},
   "source": [
    "Load labels"
   ]
  },
  {
   "cell_type": "code",
   "execution_count": 40,
   "metadata": {
    "collapsed": true
   },
   "outputs": [],
   "source": [
    "label_image = Image.open('labels/labels.png')"
   ]
  },
  {
   "cell_type": "code",
   "execution_count": 53,
   "metadata": {
    "collapsed": false
   },
   "outputs": [
    {
     "name": "stdout",
     "output_type": "stream",
     "text": [
      "(1022, 973)\n"
     ]
    }
   ],
   "source": [
    "print(label_image.size)"
   ]
  },
  {
   "cell_type": "code",
   "execution_count": 57,
   "metadata": {
    "collapsed": false
   },
   "outputs": [
    {
     "name": "stdout",
     "output_type": "stream",
     "text": [
      "(5, 973, 1022)\n"
     ]
    }
   ],
   "source": [
    "print(ds[list(ds.keys())[0]].shape)"
   ]
  },
  {
   "cell_type": "code",
   "execution_count": 68,
   "metadata": {
    "collapsed": false
   },
   "outputs": [],
   "source": [
    "labels = np.array(label_image)"
   ]
  },
  {
   "cell_type": "code",
   "execution_count": 69,
   "metadata": {
    "collapsed": false
   },
   "outputs": [
    {
     "data": {
      "text/plain": [
       "(973, 1022, 3)"
      ]
     },
     "execution_count": 69,
     "metadata": {},
     "output_type": "execute_result"
    }
   ],
   "source": [
    "labels.shape"
   ]
  },
  {
   "cell_type": "code",
   "execution_count": 92,
   "metadata": {
    "collapsed": false
   },
   "outputs": [],
   "source": [
    "pix_array = labels.reshape(labels.shape[0] * labels.shape[1], labels.shape[2])"
   ]
  },
  {
   "cell_type": "code",
   "execution_count": 90,
   "metadata": {
    "collapsed": false
   },
   "outputs": [
    {
     "data": {
      "text/plain": [
       "array([[246, 255,   0],\n",
       "       [252,   0, 255],\n",
       "       [  0, 255, 102],\n",
       "       [  0,   0,   0],\n",
       "       [  0, 156, 255],\n",
       "       [255, 156,   0],\n",
       "       [171, 239, 170]], dtype=uint8)"
      ]
     },
     "execution_count": 90,
     "metadata": {},
     "output_type": "execute_result"
    }
   ],
   "source": [
    "# unique colours in the label pic\n",
    "label_colours = {tuple(row) for row in pix_array})\n",
    "label_colours"
   ]
  },
  {
   "cell_type": "code",
   "execution_count": 106,
   "metadata": {
    "collapsed": false
   },
   "outputs": [],
   "source": [
    "label_map = {tuple(row):i for row, i in zip(label_colours, range(label_colours.shape[0]))}"
   ]
  },
  {
   "cell_type": "code",
   "execution_count": 107,
   "metadata": {
    "collapsed": false
   },
   "outputs": [
    {
     "data": {
      "text/plain": [
       "{(0, 0, 0): 3,\n",
       " (0, 156, 255): 4,\n",
       " (0, 255, 102): 2,\n",
       " (171, 239, 170): 6,\n",
       " (246, 255, 0): 0,\n",
       " (252, 0, 255): 1,\n",
       " (255, 156, 0): 5}"
      ]
     },
     "execution_count": 107,
     "metadata": {},
     "output_type": "execute_result"
    }
   ],
   "source": [
    "label_map"
   ]
  },
  {
   "cell_type": "code",
   "execution_count": 139,
   "metadata": {
    "collapsed": false
   },
   "outputs": [
    {
     "data": {
      "text/plain": [
       "array([[3, 3, 3, ..., 3, 3, 3],\n",
       "       [3, 3, 3, ..., 3, 3, 3],\n",
       "       [3, 5, 5, ..., 3, 3, 3],\n",
       "       ..., \n",
       "       [3, 3, 3, ..., 3, 3, 3],\n",
       "       [3, 3, 3, ..., 3, 3, 3],\n",
       "       [3, 3, 3, ..., 3, 3, 3]])"
      ]
     },
     "execution_count": 139,
     "metadata": {},
     "output_type": "execute_result"
    }
   ],
   "source": [
    "label_converted = np.apply_along_axis(lambda x: label_map[tuple(x)], 2, labels)\n",
    "label_converted"
   ]
  },
  {
   "cell_type": "code",
   "execution_count": 140,
   "metadata": {
    "collapsed": false
   },
   "outputs": [
    {
     "data": {
      "text/plain": [
       "(973, 1022)"
      ]
     },
     "execution_count": 140,
     "metadata": {},
     "output_type": "execute_result"
    }
   ],
   "source": [
    "label_converted.shape"
   ]
  },
  {
   "cell_type": "code",
   "execution_count": 141,
   "metadata": {
    "collapsed": false
   },
   "outputs": [],
   "source": [
    "df = pd.DataFrame(label_converted)"
   ]
  },
  {
   "cell_type": "code",
   "execution_count": 142,
   "metadata": {
    "collapsed": false
   },
   "outputs": [],
   "source": [
    "df['x'] = df.index"
   ]
  },
  {
   "cell_type": "code",
   "execution_count": 143,
   "metadata": {
    "collapsed": false
   },
   "outputs": [
    {
     "data": {
      "text/html": [
       "<div>\n",
       "<table border=\"1\" class=\"dataframe\">\n",
       "  <thead>\n",
       "    <tr style=\"text-align: right;\">\n",
       "      <th></th>\n",
       "      <th>x</th>\n",
       "      <th>variable</th>\n",
       "      <th>value</th>\n",
       "    </tr>\n",
       "  </thead>\n",
       "  <tbody>\n",
       "    <tr>\n",
       "      <th>0</th>\n",
       "      <td>0</td>\n",
       "      <td>0</td>\n",
       "      <td>3</td>\n",
       "    </tr>\n",
       "    <tr>\n",
       "      <th>1</th>\n",
       "      <td>1</td>\n",
       "      <td>0</td>\n",
       "      <td>3</td>\n",
       "    </tr>\n",
       "    <tr>\n",
       "      <th>2</th>\n",
       "      <td>2</td>\n",
       "      <td>0</td>\n",
       "      <td>3</td>\n",
       "    </tr>\n",
       "    <tr>\n",
       "      <th>3</th>\n",
       "      <td>3</td>\n",
       "      <td>0</td>\n",
       "      <td>3</td>\n",
       "    </tr>\n",
       "    <tr>\n",
       "      <th>4</th>\n",
       "      <td>4</td>\n",
       "      <td>0</td>\n",
       "      <td>3</td>\n",
       "    </tr>\n",
       "    <tr>\n",
       "      <th>5</th>\n",
       "      <td>5</td>\n",
       "      <td>0</td>\n",
       "      <td>3</td>\n",
       "    </tr>\n",
       "    <tr>\n",
       "      <th>6</th>\n",
       "      <td>6</td>\n",
       "      <td>0</td>\n",
       "      <td>3</td>\n",
       "    </tr>\n",
       "    <tr>\n",
       "      <th>7</th>\n",
       "      <td>7</td>\n",
       "      <td>0</td>\n",
       "      <td>5</td>\n",
       "    </tr>\n",
       "    <tr>\n",
       "      <th>8</th>\n",
       "      <td>8</td>\n",
       "      <td>0</td>\n",
       "      <td>3</td>\n",
       "    </tr>\n",
       "    <tr>\n",
       "      <th>9</th>\n",
       "      <td>9</td>\n",
       "      <td>0</td>\n",
       "      <td>5</td>\n",
       "    </tr>\n",
       "  </tbody>\n",
       "</table>\n",
       "</div>"
      ],
      "text/plain": [
       "   x variable  value\n",
       "0  0        0      3\n",
       "1  1        0      3\n",
       "2  2        0      3\n",
       "3  3        0      3\n",
       "4  4        0      3\n",
       "5  5        0      3\n",
       "6  6        0      3\n",
       "7  7        0      5\n",
       "8  8        0      3\n",
       "9  9        0      5"
      ]
     },
     "execution_count": 143,
     "metadata": {},
     "output_type": "execute_result"
    }
   ],
   "source": [
    "label_set = pd.melt(df, id_vars='x')\n",
    "label_set.head(10)"
   ]
  },
  {
   "cell_type": "code",
   "execution_count": 161,
   "metadata": {
    "collapsed": false
   },
   "outputs": [
    {
     "name": "stderr",
     "output_type": "stream",
     "text": [
      "/home/mithrillion/anaconda3/lib/python3.5/site-packages/pandas/tools/merge.py:205: UserWarning: merging between different levels can give an unintended result (2 levels on the left, 1 on the right)\n",
      "  warnings.warn(msg, UserWarning)\n"
     ]
    }
   ],
   "source": [
    "train_labelled = pd.merge(train, label_set, left_on=['major', 'minor'], right_on=['x', 'variable'], copy=False)\n",
    "train_labelled = train_labelled.drop(['x', 'variable'], axis=1).rename(columns={('major', ''): 'x', ('minor', ''): 'y', 'value': 'label'})"
   ]
  },
  {
   "cell_type": "code",
   "execution_count": 162,
   "metadata": {
    "collapsed": false
   },
   "outputs": [
    {
     "data": {
      "text/html": [
       "<div>\n",
       "<table border=\"1\" class=\"dataframe\">\n",
       "  <thead>\n",
       "    <tr style=\"text-align: right;\">\n",
       "      <th></th>\n",
       "      <th>x</th>\n",
       "      <th>y</th>\n",
       "      <th>(1420287166465, 0)</th>\n",
       "      <th>(1420287166465, 1)</th>\n",
       "      <th>(1420287166465, 2)</th>\n",
       "      <th>(1416139975106, 0)</th>\n",
       "      <th>(1416139975106, 1)</th>\n",
       "      <th>(1416139975106, 2)</th>\n",
       "      <th>(1394712794757, 0)</th>\n",
       "      <th>(1394712794757, 1)</th>\n",
       "      <th>...</th>\n",
       "      <th>(1411690187579, 0)</th>\n",
       "      <th>(1411690187579, 1)</th>\n",
       "      <th>(1411690187579, 2)</th>\n",
       "      <th>(1404389551164, 0)</th>\n",
       "      <th>(1404389551164, 1)</th>\n",
       "      <th>(1404389551164, 2)</th>\n",
       "      <th>(1401624739965, 0)</th>\n",
       "      <th>(1401624739965, 1)</th>\n",
       "      <th>(1401624739965, 2)</th>\n",
       "      <th>label</th>\n",
       "    </tr>\n",
       "  </thead>\n",
       "  <tbody>\n",
       "    <tr>\n",
       "      <th>0</th>\n",
       "      <td>0</td>\n",
       "      <td>0</td>\n",
       "      <td>2536.327143</td>\n",
       "      <td>1207.073539</td>\n",
       "      <td>797.913266</td>\n",
       "      <td>2592.5</td>\n",
       "      <td>1344.5</td>\n",
       "      <td>901.5</td>\n",
       "      <td>3683.0</td>\n",
       "      <td>300.0</td>\n",
       "      <td>...</td>\n",
       "      <td>5501.500036</td>\n",
       "      <td>415.699988</td>\n",
       "      <td>732.599999</td>\n",
       "      <td>3736.022648</td>\n",
       "      <td>299.408119</td>\n",
       "      <td>523.058050</td>\n",
       "      <td>4220.502289</td>\n",
       "      <td>293.999974</td>\n",
       "      <td>551.000132</td>\n",
       "      <td>3</td>\n",
       "    </tr>\n",
       "    <tr>\n",
       "      <th>1</th>\n",
       "      <td>0</td>\n",
       "      <td>1</td>\n",
       "      <td>2620.854873</td>\n",
       "      <td>1392.778400</td>\n",
       "      <td>1004.750059</td>\n",
       "      <td>2915.5</td>\n",
       "      <td>1564.5</td>\n",
       "      <td>1078.0</td>\n",
       "      <td>3683.0</td>\n",
       "      <td>300.0</td>\n",
       "      <td>...</td>\n",
       "      <td>5501.500036</td>\n",
       "      <td>415.699988</td>\n",
       "      <td>732.599999</td>\n",
       "      <td>3784.359573</td>\n",
       "      <td>302.268876</td>\n",
       "      <td>529.716708</td>\n",
       "      <td>4710.504375</td>\n",
       "      <td>323.000098</td>\n",
       "      <td>618.500419</td>\n",
       "      <td>3</td>\n",
       "    </tr>\n",
       "    <tr>\n",
       "      <th>2</th>\n",
       "      <td>0</td>\n",
       "      <td>2</td>\n",
       "      <td>2628.311506</td>\n",
       "      <td>1359.532614</td>\n",
       "      <td>1003.801855</td>\n",
       "      <td>3184.0</td>\n",
       "      <td>1615.0</td>\n",
       "      <td>1129.5</td>\n",
       "      <td>3438.0</td>\n",
       "      <td>349.0</td>\n",
       "      <td>...</td>\n",
       "      <td>5246.000027</td>\n",
       "      <td>453.199993</td>\n",
       "      <td>796.000003</td>\n",
       "      <td>3532.059711</td>\n",
       "      <td>349.049323</td>\n",
       "      <td>559.842420</td>\n",
       "      <td>4391.504060</td>\n",
       "      <td>349.500002</td>\n",
       "      <td>631.500338</td>\n",
       "      <td>3</td>\n",
       "    </tr>\n",
       "    <tr>\n",
       "      <th>3</th>\n",
       "      <td>0</td>\n",
       "      <td>3</td>\n",
       "      <td>2603.136817</td>\n",
       "      <td>1359.172976</td>\n",
       "      <td>1000.924748</td>\n",
       "      <td>3476.0</td>\n",
       "      <td>1723.5</td>\n",
       "      <td>1205.0</td>\n",
       "      <td>3089.0</td>\n",
       "      <td>429.0</td>\n",
       "      <td>...</td>\n",
       "      <td>4810.900020</td>\n",
       "      <td>444.699996</td>\n",
       "      <td>719.200001</td>\n",
       "      <td>3200.273575</td>\n",
       "      <td>425.103452</td>\n",
       "      <td>571.250539</td>\n",
       "      <td>4217.004803</td>\n",
       "      <td>389.499832</td>\n",
       "      <td>637.500313</td>\n",
       "      <td>3</td>\n",
       "    </tr>\n",
       "    <tr>\n",
       "      <th>4</th>\n",
       "      <td>0</td>\n",
       "      <td>4</td>\n",
       "      <td>2523.646467</td>\n",
       "      <td>1277.032004</td>\n",
       "      <td>925.152454</td>\n",
       "      <td>3614.5</td>\n",
       "      <td>1732.5</td>\n",
       "      <td>1198.5</td>\n",
       "      <td>2897.0</td>\n",
       "      <td>473.0</td>\n",
       "      <td>...</td>\n",
       "      <td>4549.600018</td>\n",
       "      <td>425.899997</td>\n",
       "      <td>661.100001</td>\n",
       "      <td>2992.983323</td>\n",
       "      <td>467.130516</td>\n",
       "      <td>567.847225</td>\n",
       "      <td>3870.004143</td>\n",
       "      <td>413.499747</td>\n",
       "      <td>603.000166</td>\n",
       "      <td>3</td>\n",
       "    </tr>\n",
       "    <tr>\n",
       "      <th>5</th>\n",
       "      <td>0</td>\n",
       "      <td>5</td>\n",
       "      <td>2406.460296</td>\n",
       "      <td>1198.907890</td>\n",
       "      <td>896.336183</td>\n",
       "      <td>3517.0</td>\n",
       "      <td>1680.0</td>\n",
       "      <td>1168.0</td>\n",
       "      <td>2897.0</td>\n",
       "      <td>473.0</td>\n",
       "      <td>...</td>\n",
       "      <td>4549.600018</td>\n",
       "      <td>425.899997</td>\n",
       "      <td>661.100001</td>\n",
       "      <td>2947.753772</td>\n",
       "      <td>464.072466</td>\n",
       "      <td>560.448716</td>\n",
       "      <td>3411.502191</td>\n",
       "      <td>382.499615</td>\n",
       "      <td>527.999847</td>\n",
       "      <td>3</td>\n",
       "    </tr>\n",
       "    <tr>\n",
       "      <th>6</th>\n",
       "      <td>0</td>\n",
       "      <td>6</td>\n",
       "      <td>1798.904226</td>\n",
       "      <td>519.680676</td>\n",
       "      <td>443.041535</td>\n",
       "      <td>2422.5</td>\n",
       "      <td>900.5</td>\n",
       "      <td>710.5</td>\n",
       "      <td>1947.0</td>\n",
       "      <td>327.0</td>\n",
       "      <td>...</td>\n",
       "      <td>2385.499969</td>\n",
       "      <td>265.099996</td>\n",
       "      <td>360.499996</td>\n",
       "      <td>1941.278486</td>\n",
       "      <td>317.628555</td>\n",
       "      <td>380.242695</td>\n",
       "      <td>1888.999753</td>\n",
       "      <td>231.999596</td>\n",
       "      <td>318.499708</td>\n",
       "      <td>3</td>\n",
       "    </tr>\n",
       "    <tr>\n",
       "      <th>7</th>\n",
       "      <td>0</td>\n",
       "      <td>7</td>\n",
       "      <td>2007.104813</td>\n",
       "      <td>484.565110</td>\n",
       "      <td>405.870510</td>\n",
       "      <td>2376.0</td>\n",
       "      <td>661.0</td>\n",
       "      <td>531.5</td>\n",
       "      <td>1749.0</td>\n",
       "      <td>206.0</td>\n",
       "      <td>...</td>\n",
       "      <td>1910.799989</td>\n",
       "      <td>174.399995</td>\n",
       "      <td>246.299997</td>\n",
       "      <td>1782.194644</td>\n",
       "      <td>208.712787</td>\n",
       "      <td>258.044518</td>\n",
       "      <td>2085.501433</td>\n",
       "      <td>233.500117</td>\n",
       "      <td>295.000175</td>\n",
       "      <td>3</td>\n",
       "    </tr>\n",
       "    <tr>\n",
       "      <th>8</th>\n",
       "      <td>0</td>\n",
       "      <td>8</td>\n",
       "      <td>2065.725874</td>\n",
       "      <td>649.639140</td>\n",
       "      <td>510.525287</td>\n",
       "      <td>2561.5</td>\n",
       "      <td>906.5</td>\n",
       "      <td>673.0</td>\n",
       "      <td>2246.0</td>\n",
       "      <td>607.0</td>\n",
       "      <td>...</td>\n",
       "      <td>2818.599999</td>\n",
       "      <td>421.299994</td>\n",
       "      <td>478.499998</td>\n",
       "      <td>2254.680917</td>\n",
       "      <td>589.934106</td>\n",
       "      <td>499.516376</td>\n",
       "      <td>2334.000375</td>\n",
       "      <td>433.999263</td>\n",
       "      <td>421.999634</td>\n",
       "      <td>3</td>\n",
       "    </tr>\n",
       "    <tr>\n",
       "      <th>9</th>\n",
       "      <td>0</td>\n",
       "      <td>9</td>\n",
       "      <td>2455.256046</td>\n",
       "      <td>1324.491571</td>\n",
       "      <td>993.833130</td>\n",
       "      <td>2943.0</td>\n",
       "      <td>1345.0</td>\n",
       "      <td>937.0</td>\n",
       "      <td>2311.0</td>\n",
       "      <td>777.0</td>\n",
       "      <td>...</td>\n",
       "      <td>3105.300009</td>\n",
       "      <td>561.100003</td>\n",
       "      <td>647.500005</td>\n",
       "      <td>2359.386249</td>\n",
       "      <td>765.754266</td>\n",
       "      <td>689.067661</td>\n",
       "      <td>2801.502088</td>\n",
       "      <td>662.999515</td>\n",
       "      <td>643.999787</td>\n",
       "      <td>3</td>\n",
       "    </tr>\n",
       "  </tbody>\n",
       "</table>\n",
       "<p>10 rows × 114 columns</p>\n",
       "</div>"
      ],
      "text/plain": [
       "   x  y  (1420287166465, 0)  (1420287166465, 1)  (1420287166465, 2)  \\\n",
       "0  0  0         2536.327143         1207.073539          797.913266   \n",
       "1  0  1         2620.854873         1392.778400         1004.750059   \n",
       "2  0  2         2628.311506         1359.532614         1003.801855   \n",
       "3  0  3         2603.136817         1359.172976         1000.924748   \n",
       "4  0  4         2523.646467         1277.032004          925.152454   \n",
       "5  0  5         2406.460296         1198.907890          896.336183   \n",
       "6  0  6         1798.904226          519.680676          443.041535   \n",
       "7  0  7         2007.104813          484.565110          405.870510   \n",
       "8  0  8         2065.725874          649.639140          510.525287   \n",
       "9  0  9         2455.256046         1324.491571          993.833130   \n",
       "\n",
       "   (1416139975106, 0)  (1416139975106, 1)  (1416139975106, 2)  \\\n",
       "0              2592.5              1344.5               901.5   \n",
       "1              2915.5              1564.5              1078.0   \n",
       "2              3184.0              1615.0              1129.5   \n",
       "3              3476.0              1723.5              1205.0   \n",
       "4              3614.5              1732.5              1198.5   \n",
       "5              3517.0              1680.0              1168.0   \n",
       "6              2422.5               900.5               710.5   \n",
       "7              2376.0               661.0               531.5   \n",
       "8              2561.5               906.5               673.0   \n",
       "9              2943.0              1345.0               937.0   \n",
       "\n",
       "   (1394712794757, 0)  (1394712794757, 1)  ...    (1411690187579, 0)  \\\n",
       "0              3683.0               300.0  ...           5501.500036   \n",
       "1              3683.0               300.0  ...           5501.500036   \n",
       "2              3438.0               349.0  ...           5246.000027   \n",
       "3              3089.0               429.0  ...           4810.900020   \n",
       "4              2897.0               473.0  ...           4549.600018   \n",
       "5              2897.0               473.0  ...           4549.600018   \n",
       "6              1947.0               327.0  ...           2385.499969   \n",
       "7              1749.0               206.0  ...           1910.799989   \n",
       "8              2246.0               607.0  ...           2818.599999   \n",
       "9              2311.0               777.0  ...           3105.300009   \n",
       "\n",
       "   (1411690187579, 1)  (1411690187579, 2)  (1404389551164, 0)  \\\n",
       "0          415.699988          732.599999         3736.022648   \n",
       "1          415.699988          732.599999         3784.359573   \n",
       "2          453.199993          796.000003         3532.059711   \n",
       "3          444.699996          719.200001         3200.273575   \n",
       "4          425.899997          661.100001         2992.983323   \n",
       "5          425.899997          661.100001         2947.753772   \n",
       "6          265.099996          360.499996         1941.278486   \n",
       "7          174.399995          246.299997         1782.194644   \n",
       "8          421.299994          478.499998         2254.680917   \n",
       "9          561.100003          647.500005         2359.386249   \n",
       "\n",
       "   (1404389551164, 1)  (1404389551164, 2)  (1401624739965, 0)  \\\n",
       "0          299.408119          523.058050         4220.502289   \n",
       "1          302.268876          529.716708         4710.504375   \n",
       "2          349.049323          559.842420         4391.504060   \n",
       "3          425.103452          571.250539         4217.004803   \n",
       "4          467.130516          567.847225         3870.004143   \n",
       "5          464.072466          560.448716         3411.502191   \n",
       "6          317.628555          380.242695         1888.999753   \n",
       "7          208.712787          258.044518         2085.501433   \n",
       "8          589.934106          499.516376         2334.000375   \n",
       "9          765.754266          689.067661         2801.502088   \n",
       "\n",
       "   (1401624739965, 1)  (1401624739965, 2)  label  \n",
       "0          293.999974          551.000132      3  \n",
       "1          323.000098          618.500419      3  \n",
       "2          349.500002          631.500338      3  \n",
       "3          389.499832          637.500313      3  \n",
       "4          413.499747          603.000166      3  \n",
       "5          382.499615          527.999847      3  \n",
       "6          231.999596          318.499708      3  \n",
       "7          233.500117          295.000175      3  \n",
       "8          433.999263          421.999634      3  \n",
       "9          662.999515          643.999787      3  \n",
       "\n",
       "[10 rows x 114 columns]"
      ]
     },
     "execution_count": 162,
     "metadata": {},
     "output_type": "execute_result"
    }
   ],
   "source": [
    "train_labelled.head(10)"
   ]
  },
  {
   "cell_type": "code",
   "execution_count": null,
   "metadata": {
    "collapsed": true
   },
   "outputs": [],
   "source": []
  }
 ],
 "metadata": {
  "anaconda-cloud": {},
  "kernelspec": {
   "display_name": "Python [Root]",
   "language": "python",
   "name": "Python [Root]"
  },
  "language_info": {
   "codemirror_mode": {
    "name": "ipython",
    "version": 3
   },
   "file_extension": ".py",
   "mimetype": "text/x-python",
   "name": "python",
   "nbconvert_exporter": "python",
   "pygments_lexer": "ipython3",
   "version": "3.5.2"
  }
 },
 "nbformat": 4,
 "nbformat_minor": 0
}
