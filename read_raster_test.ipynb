{
 "cells": [
  {
   "cell_type": "code",
   "execution_count": 45,
   "metadata": {
    "collapsed": true
   },
   "outputs": [],
   "source": [
    "import rasterio\n",
    "import numpy as np\n",
    "import pandas as pd\n",
    "import os\n",
    "import shelve"
   ]
  },
  {
   "cell_type": "code",
   "execution_count": 56,
   "metadata": {
    "collapsed": true
   },
   "outputs": [],
   "source": [
    "def read_image_data(image_dir='2014/images/',\n",
    "                    mask_dir='2014/masks/',\n",
    "                    table_dir='2014/tables/LC8_SR.csv', \n",
    "                    shelve_dir=None):\n",
    "    if shelve_dir is None:\n",
    "        combined = {} # write to file instead\n",
    "        ds = {}\n",
    "    else:\n",
    "        combined = shelve.open(shelve_dir + 'combined')\n",
    "        ds = shelve.open(shelve_dir + 'ds')\n",
    "    for fn in os.listdir(image_dir):\n",
    "        arr_img = rasterio.open(image_dir + fn).read()\n",
    "        arr_msk = rasterio.open(mask_dir + fn).read()\n",
    "        combined[fn.split('.')[0]] = np.concatenate((arr_img, arr_msk), axis=0)\n",
    "    table = pd.read_csv(table_dir)\n",
    "    time_start = table[['system:index', 'system:time_start']]\n",
    "    \n",
    "    for k, v in combined.items():\n",
    "        ts = time_start[time_start['system:index'] == k]['system:time_start'].iloc[0]\n",
    "        ds[str(ts)] = v\n",
    "    if shelve_dir is not None:\n",
    "        combined.close()\n",
    "    return ds"
   ]
  },
  {
   "cell_type": "code",
   "execution_count": 57,
   "metadata": {
    "collapsed": false
   },
   "outputs": [],
   "source": [
    "dat = read_image_data(image_dir='area1/2014/images/',\n",
    "                     mask_dir='area1/2014/masks/',\n",
    "                     table_dir='area1/2014/tables/LC8_SR.csv',\n",
    "                       shelve_dir='models/area1/shelves/')"
   ]
  },
  {
   "cell_type": "code",
   "execution_count": 64,
   "metadata": {
    "collapsed": true
   },
   "outputs": [],
   "source": [
    "def get_boolean_mask(image, level=1):\n",
    "    cfmask = image[3, :, :]\n",
    "    cfmask_conf = image[4, :, :]\n",
    "    return ((cfmask == 0) | (cfmask == 1)) & (cfmask_conf <= level)\n",
    "\n",
    "\n",
    "def zigzag_integer_pairs(max_x, max_y):\n",
    "    total = 0\n",
    "    x = 0\n",
    "    while total <= max_x + max_y:\n",
    "        if total - x <= max_y:\n",
    "            yield (x, total - x)\n",
    "        if x <= min(max_x - 1, total - 1):\n",
    "            x += 1\n",
    "        else:\n",
    "            total += 1\n",
    "            x = 0"
   ]
  },
  {
   "cell_type": "code",
   "execution_count": 68,
   "metadata": {
    "collapsed": false
   },
   "outputs": [],
   "source": [
    "ks = list(dat.keys())"
   ]
  },
  {
   "cell_type": "code",
   "execution_count": 71,
   "metadata": {
    "collapsed": false
   },
   "outputs": [],
   "source": [
    "keys_as_int = [int(k) for k in ks]"
   ]
  },
  {
   "cell_type": "code",
   "execution_count": 72,
   "metadata": {
    "collapsed": false
   },
   "outputs": [
    {
     "data": {
      "text/plain": [
       "[1393632987225,\n",
       " 1394410211566,\n",
       " 1395015377948,\n",
       " 1395792595786,\n",
       " 1397780144150,\n",
       " 1398557367125,\n",
       " 1399162529511,\n",
       " 1399939752769,\n",
       " 1400544919916,\n",
       " 1401322152255,\n",
       " 1401927327676,\n",
       " 1402704560525,\n",
       " 1404086963402,\n",
       " 1404692138926,\n",
       " 1405469370600,\n",
       " 1406074541664,\n",
       " 1406851776359,\n",
       " 1408234182394,\n",
       " 1408839353835,\n",
       " 1409616584607,\n",
       " 1410221757598,\n",
       " 1410998985984,\n",
       " 1412381389175,\n",
       " 1412986561487,\n",
       " 1413763792495,\n",
       " 1414368960709,\n",
       " 1415146191267,\n",
       " 1415751363029,\n",
       " 1416528587183,\n",
       " 1417133760843,\n",
       " 1417910986952,\n",
       " 1418516154655,\n",
       " 1419293385395,\n",
       " 1419898551514,\n",
       " 1420675781417,\n",
       " 1421280950873,\n",
       " 1422058174921,\n",
       " 1422663346261]"
      ]
     },
     "execution_count": 72,
     "metadata": {},
     "output_type": "execute_result"
    }
   ],
   "source": [
    "keys_as_int"
   ]
  },
  {
   "cell_type": "code",
   "execution_count": null,
   "metadata": {
    "collapsed": true
   },
   "outputs": [],
   "source": []
  }
 ],
 "metadata": {
  "anaconda-cloud": {},
  "kernelspec": {
   "display_name": "Python [conda root]",
   "language": "python",
   "name": "conda-root-py"
  },
  "language_info": {
   "codemirror_mode": {
    "name": "ipython",
    "version": 3
   },
   "file_extension": ".py",
   "mimetype": "text/x-python",
   "name": "python",
   "nbconvert_exporter": "python",
   "pygments_lexer": "ipython3",
   "version": "3.5.2"
  }
 },
 "nbformat": 4,
 "nbformat_minor": 1
}
