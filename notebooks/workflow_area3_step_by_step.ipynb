{
 "cells": [
  {
   "cell_type": "code",
   "execution_count": 1,
   "metadata": {
    "collapsed": true
   },
   "outputs": [],
   "source": [
    "import sys\n",
    "sys.path.append('../')\n",
    "import numpy as np\n",
    "import pandas as pd\n",
    "import matplotlib.pyplot as plt\n",
    "%matplotlib inline\n",
    "import scripts.read_land_use_no_gdal as rlu\n",
    "import scripts.read_image_data_scaleable as rid"
   ]
  },
  {
   "cell_type": "code",
   "execution_count": 2,
   "metadata": {
    "collapsed": false
   },
   "outputs": [
    {
     "data": {
      "text/plain": [
       "<module 'scripts.read_image_data_scaleable' from '../scripts/read_image_data_scaleable.py'>"
      ]
     },
     "execution_count": 2,
     "metadata": {},
     "output_type": "execute_result"
    }
   ],
   "source": [
    "from importlib import reload\n",
    "reload(rid)"
   ]
  },
  {
   "cell_type": "code",
   "execution_count": 3,
   "metadata": {
    "collapsed": true
   },
   "outputs": [],
   "source": [
    "image_dir='../area3/2014/images/'\n",
    "mask_dir='../area3/2014/masks/'\n",
    "table_dir='../area3/2014/tables/LC8_SR.csv'\n",
    "new_table_dir='../area3/2015/tables/LC8_SR.csv'\n",
    "shelve_root_dir='../models/area3/shelves/'\n",
    "processes=8\n",
    "max_days_apart=30\n",
    "step=250000"
   ]
  },
  {
   "cell_type": "code",
   "execution_count": 4,
   "metadata": {
    "collapsed": false
   },
   "outputs": [],
   "source": [
    "ds = rid.read_image_data(image_dir, mask_dir, table_dir, shelve_root_dir + 'old/', processes)"
   ]
  },
  {
   "cell_type": "code",
   "execution_count": null,
   "metadata": {
    "collapsed": true
   },
   "outputs": [],
   "source": [
    "res = ds[list(ds.keys())[0]].shape[1:]\n",
    "new_table = pd.read_csv(new_table_dir)\n",
    "new_times = list(new_table['system:time_start'])\n",
    "if timestamps is None:\n",
    "    times_to_fit = []\n",
    "    for t in new_times:\n",
    "        dt = datetime.datetime.fromtimestamp(t / 1000)\n",
    "        dt = dt.replace(year=dt.year - 1)\n",
    "        times_to_fit += [int(dt.timestamp() * 1000)]\n",
    "else:\n",
    "    times_to_fit = timestamps\n",
    "times_to_fit.sort()"
   ]
  },
  {
   "cell_type": "code",
   "execution_count": null,
   "metadata": {
    "collapsed": true
   },
   "outputs": [],
   "source": [
    "imgs = rid.interpolate_images(times_to_fit, ds, max_days_apart, processes, shelve_root_dir)"
   ]
  },
  {
   "cell_type": "code",
   "execution_count": null,
   "metadata": {
    "collapsed": true
   },
   "outputs": [],
   "source": [
    "pix = rid.store_set(imgs, processes, shelve_root_dir + 'old/')\n",
    "imgs.close()"
   ]
  },
  {
   "cell_type": "code",
   "execution_count": 3,
   "metadata": {
    "collapsed": true
   },
   "outputs": [],
   "source": [
    "# area3\n",
    "polygon = \"POLYGON ((144.0229424345357 -37.55299953752239, 144.02019905996406 -37.97282887730929, 144.6632499098556 -37.972670022747636, 144.66240633494579 -37.552454710108975, 144.0229424345357 -37.55299953752239))\"\n",
    "array, classes = rlu.read_land_use(da_shapefile=\"../SDM324649_full/ll_gda94/sde_shape/whole/VIC/CATCHMENTS/layer/landuse_2014.shp\",\n",
    "                  resolution=(2387, 1976),\n",
    "                  area_filter=polygon,\n",
    "                  buffer=-0.0001,\n",
    "                  processes=8)"
   ]
  },
  {
   "cell_type": "code",
   "execution_count": null,
   "metadata": {
    "collapsed": true
   },
   "outputs": [],
   "source": [
    "train = rid.combine_set(pix, shelve_root_dir + 'old/', res, step, processes, array)"
   ]
  }
 ],
 "metadata": {
  "kernelspec": {
   "display_name": "Python [Root]",
   "language": "python",
   "name": "Python [Root]"
  },
  "language_info": {
   "codemirror_mode": {
    "name": "ipython",
    "version": 3
   },
   "file_extension": ".py",
   "mimetype": "text/x-python",
   "name": "python",
   "nbconvert_exporter": "python",
   "pygments_lexer": "ipython3",
   "version": "3.5.2"
  }
 },
 "nbformat": 4,
 "nbformat_minor": 0
}
