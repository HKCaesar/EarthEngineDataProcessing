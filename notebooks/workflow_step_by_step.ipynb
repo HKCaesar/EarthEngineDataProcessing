{
 "cells": [
  {
   "cell_type": "code",
   "execution_count": 11,
   "metadata": {
    "collapsed": true
   },
   "outputs": [],
   "source": [
    "import sys\n",
    "sys.path.append('../')\n",
    "import numpy as np\n",
    "import pandas as pd\n",
    "import matplotlib.pyplot as plt\n",
    "%matplotlib inline\n",
    "import scripts.read_land_use_no_gdal as rlu\n",
    "import scripts.read_image_data_scaleable as rid\n",
    "import datetime"
   ]
  },
  {
   "cell_type": "code",
   "execution_count": 12,
   "metadata": {
    "collapsed": false
   },
   "outputs": [
    {
     "data": {
      "text/plain": [
       "<module 'scripts.read_image_data_scaleable' from '../scripts/read_image_data_scaleable.py'>"
      ]
     },
     "execution_count": 12,
     "metadata": {},
     "output_type": "execute_result"
    }
   ],
   "source": [
    "from importlib import reload\n",
    "reload(rid)"
   ]
  },
  {
   "cell_type": "code",
   "execution_count": 13,
   "metadata": {
    "collapsed": true
   },
   "outputs": [],
   "source": [
    "image_dir='../area3/2014/images/'\n",
    "mask_dir='../area3/2014/masks/'\n",
    "table_dir='../area3/2014/tables/LC8_SR.csv'\n",
    "new_table_dir='../area3/2015/tables/LC8_SR.csv'\n",
    "shelve_root_dir='../models/area3/shelves/'\n",
    "processes=8\n",
    "max_days_apart=30\n",
    "step=250000"
   ]
  },
  {
   "cell_type": "code",
   "execution_count": 4,
   "metadata": {
    "collapsed": false
   },
   "outputs": [],
   "source": [
    "rid.create_folders(shelve_root_dir)"
   ]
  },
  {
   "cell_type": "code",
   "execution_count": 5,
   "metadata": {
    "collapsed": false
   },
   "outputs": [],
   "source": [
    "maps = rid.read_image_data(image_dir, mask_dir, table_dir, shelve_root_dir + 'old/', processes)"
   ]
  },
  {
   "cell_type": "code",
   "execution_count": 6,
   "metadata": {
    "collapsed": false
   },
   "outputs": [],
   "source": [
    "# first = next(iter(maps.keys()))\n",
    "# map0 = np.memmap(shelve_root_dir + 'old/maps/' + first, mode='r', dtype='int16', shape=maps[first])\n",
    "# map0"
   ]
  },
  {
   "cell_type": "code",
   "execution_count": 7,
   "metadata": {
    "collapsed": false
   },
   "outputs": [],
   "source": [
    "# res = ds[list(ds.keys())[0]].shape[1:]\n",
    "res = maps[next(iter(maps.keys()))][1:]\n",
    "new_table = pd.read_csv(new_table_dir)\n",
    "new_times = list(new_table['system:time_start'])\n",
    "times_to_fit = []\n",
    "for t in new_times:\n",
    "    dt = datetime.datetime.fromtimestamp(t / 1000)\n",
    "    dt = dt.replace(year=dt.year - 1)\n",
    "    times_to_fit += [int(dt.timestamp() * 1000)]\n",
    "times_to_fit.sort()"
   ]
  },
  {
   "cell_type": "code",
   "execution_count": 8,
   "metadata": {
    "collapsed": false
   },
   "outputs": [],
   "source": [
    "# times_to_fit[:5]"
   ]
  },
  {
   "cell_type": "code",
   "execution_count": 9,
   "metadata": {
    "collapsed": false
   },
   "outputs": [],
   "source": [
    "imgs = rid.interpolate_images(times_to_fit, maps, max_days_apart, processes, shelve_root_dir + 'old/')"
   ]
  },
  {
   "cell_type": "code",
   "execution_count": 10,
   "metadata": {
    "collapsed": false
   },
   "outputs": [
    {
     "data": {
      "text/plain": [
       "<shelve.DbfilenameShelf at 0x7f4c1cc75240>"
      ]
     },
     "execution_count": 10,
     "metadata": {},
     "output_type": "execute_result"
    }
   ],
   "source": [
    "imgs"
   ]
  },
  {
   "cell_type": "code",
   "execution_count": null,
   "metadata": {
    "collapsed": true
   },
   "outputs": [],
   "source": []
  }
 ],
 "metadata": {
  "anaconda-cloud": {},
  "kernelspec": {
   "display_name": "Python [Root]",
   "language": "python",
   "name": "Python [Root]"
  },
  "language_info": {
   "codemirror_mode": {
    "name": "ipython",
    "version": 3
   },
   "file_extension": ".py",
   "mimetype": "text/x-python",
   "name": "python",
   "nbconvert_exporter": "python",
   "pygments_lexer": "ipython3",
   "version": "3.5.2"
  }
 },
 "nbformat": 4,
 "nbformat_minor": 0
}
