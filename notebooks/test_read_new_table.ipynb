{
 "cells": [
  {
   "cell_type": "code",
   "execution_count": 3,
   "metadata": {
    "collapsed": false
   },
   "outputs": [],
   "source": [
    "import pandas as pd"
   ]
  },
  {
   "cell_type": "code",
   "execution_count": 4,
   "metadata": {
    "collapsed": true
   },
   "outputs": [],
   "source": [
    "tbl = pd.read_csv('area1/2015/tables/LC8_SR.csv')"
   ]
  },
  {
   "cell_type": "code",
   "execution_count": 7,
   "metadata": {
    "collapsed": false
   },
   "outputs": [
    {
     "data": {
      "text/plain": [
       "[1426205354132,\n",
       " 1427587746370,\n",
       " 1430352533188,\n",
       " 1431734919028,\n",
       " 1433117325195,\n",
       " 1434499736147,\n",
       " 1435882143244,\n",
       " 1437264552573,\n",
       " 1438646955592,\n",
       " 1440029363213,\n",
       " 1441411768125,\n",
       " 1442794176672,\n",
       " 1444176579436,\n",
       " 1445558982533,\n",
       " 1446941385063,\n",
       " 1448323787335,\n",
       " 1449706184998,\n",
       " 1451088586307,\n",
       " 1452470982577,\n",
       " 1453853382683,\n",
       " 1426810523472,\n",
       " 1428192911630,\n",
       " 1429575310943,\n",
       " 1430957695975,\n",
       " 1432340092546,\n",
       " 1433722502125,\n",
       " 1435104908414,\n",
       " 1436487319228,\n",
       " 1437869725294,\n",
       " 1439252129269,\n",
       " 1440634536577,\n",
       " 1442016943362,\n",
       " 1443399349500,\n",
       " 1444781749463,\n",
       " 1446164155488,\n",
       " 1447546555861,\n",
       " 1448928958023,\n",
       " 1450311357239,\n",
       " 1451693755106,\n",
       " 1453076154238]"
      ]
     },
     "execution_count": 7,
     "metadata": {},
     "output_type": "execute_result"
    }
   ],
   "source": [
    "list(tbl['system:time_start'])"
   ]
  },
  {
   "cell_type": "code",
   "execution_count": null,
   "metadata": {
    "collapsed": true
   },
   "outputs": [],
   "source": []
  }
 ],
 "metadata": {
  "anaconda-cloud": {},
  "kernelspec": {
   "display_name": "Python [Root]",
   "language": "python",
   "name": "Python [Root]"
  },
  "language_info": {
   "codemirror_mode": {
    "name": "ipython",
    "version": 3
   },
   "file_extension": ".py",
   "mimetype": "text/x-python",
   "name": "python",
   "nbconvert_exporter": "python",
   "pygments_lexer": "ipython3",
   "version": "3.5.2"
  }
 },
 "nbformat": 4,
 "nbformat_minor": 0
}
